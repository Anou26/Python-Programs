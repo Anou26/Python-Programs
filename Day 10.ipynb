{
 "cells": [
  {
   "cell_type": "markdown",
   "metadata": {},
   "source": [
    "## File Handling in python"
   ]
  },
  {
   "cell_type": "markdown",
   "metadata": {},
   "source": [
    "#### File is a document containing information residing on the permanent storage types- Doc, Text,PDF, Text,Csv files, etc\n"
   ]
  },
  {
   "cell_type": "markdown",
   "metadata": {},
   "source": [
    "open()- opens the file\n",
    "close()-closes the file\n",
    "#### open(filename,mode of the file)\n",
    "#### 'r'- it opens the file for reading\n",
    "#### 'w'- it opens the file for writing. If the file name is not present it creates a new file and writes some data into it.\n"
   ]
  },
  {
   "cell_type": "code",
   "execution_count": 2,
   "metadata": {},
   "outputs": [
    {
     "name": "stdout",
     "output_type": "stream",
     "text": [
      "File has been created successfully and data is written\n"
     ]
    }
   ],
   "source": [
    "#Function to create a file and write some data\n",
    "def createFile(filename):\n",
    "    f=open(filename,\"w\")\n",
    "    for i in range(10):\n",
    "        f.write(\"This is %d line\\n\" %i)\n",
    "    print(\"File has been created successfully and data is written\")\n",
    "    f.close()\n",
    "    return\n",
    "createFile(\"file1.txt\")"
   ]
  },
  {
   "cell_type": "code",
   "execution_count": 5,
   "metadata": {},
   "outputs": [
    {
     "name": "stdout",
     "output_type": "stream",
     "text": [
      "file created\n"
     ]
    }
   ],
   "source": [
    "def createFile(filename):\n",
    "    f=open(filename,\"w\")\n",
    "    for i in range(10):\n",
    "        f.write(\"%d\\n\"%i)\n",
    "    print(\"file created\")\n",
    "    f.close()\n",
    "    return\n",
    "createFile(\"file2.txt\")"
   ]
  },
  {
   "cell_type": "code",
   "execution_count": 9,
   "metadata": {},
   "outputs": [
    {
     "name": "stdout",
     "output_type": "stream",
     "text": [
      "This is 0 line\n",
      "This is 1 line\n",
      "This is 2 line\n",
      "This is 3 line\n",
      "This is 4 line\n",
      "This is 5 line\n",
      "This is 6 line\n",
      "This is 7 line\n",
      "This is 8 line\n",
      "This is 9 line\n",
      "\n"
     ]
    }
   ],
   "source": [
    "#Function to read data from a file\n",
    "def readFile(filename):\n",
    "    f=open(filename,\"r\")\n",
    "    if f.mode==\"r\":\n",
    "        x=f.read()\n",
    "        print(x)\n",
    "    f.close()\n",
    "    return\n",
    "readFile(\"file1.txt\")"
   ]
  },
  {
   "cell_type": "code",
   "execution_count": 24,
   "metadata": {},
   "outputs": [
    {
     "name": "stdout",
     "output_type": "stream",
     "text": [
      "File has been created successfully and data is written\n"
     ]
    }
   ],
   "source": [
    "def createFile(filename):\n",
    "    f=open(filename,\"w\")\n",
    "    for i in range(10):\n",
    "        f.write(\"Test %d line\\n\"%i)\n",
    "    print(\"File has been created successfully and data is written\")\n",
    "    f.close()\n",
    "    return\n",
    "createFile(\"file1.txt\")"
   ]
  },
  {
   "cell_type": "code",
   "execution_count": 27,
   "metadata": {},
   "outputs": [
    {
     "name": "stdout",
     "output_type": "stream",
     "text": [
      "File has been created successfully and data is written\n"
     ]
    }
   ],
   "source": [
    "#Function to append data to existing file\n",
    "def appendData(filename):\n",
    "    f=open(filename,\"a\")\n",
    "    for i in range(10):\n",
    "        f.write(\"%d line\\n\"%i)\n",
    "    print(\"File has been created successfully and data is written\")\n",
    "    f.close()\n",
    "    return\n",
    "appendData(\"file1.txt\")"
   ]
  },
  {
   "cell_type": "code",
   "execution_count": 32,
   "metadata": {},
   "outputs": [
    {
     "name": "stdout",
     "output_type": "stream",
     "text": [
      "10\n"
     ]
    }
   ],
   "source": [
    "def dataAnalysisWordCount(filename,word):\n",
    "    f=open(filename,\"r\")\n",
    "    if f.mode==\"r\":\n",
    "        x=f.read()\n",
    "        lst=x.split()\n",
    "    cnt=lst.count(word)\n",
    "    return cnt\n",
    "print(dataAnalysisWordCount(\"file1.txt\",\"Test\"))"
   ]
  },
  {
   "cell_type": "code",
   "execution_count": 41,
   "metadata": {},
   "outputs": [
    {
     "name": "stdout",
     "output_type": "stream",
     "text": [
      "330\n"
     ]
    }
   ],
   "source": [
    "#Function to count characters in the file\n",
    "def characterCount(filename):\n",
    "    f=open(filename,\"r\")\n",
    "    if f.mode==\"r\":\n",
    "        x=f.read()\n",
    "        lst=list(x)\n",
    "    return len(lst)\n",
    "print(characterCount(\"file1.txt\"))\n"
   ]
  },
  {
   "cell_type": "code",
   "execution_count": 47,
   "metadata": {},
   "outputs": [
    {
     "name": "stdout",
     "output_type": "stream",
     "text": [
      "10\n"
     ]
    }
   ],
   "source": [
    "#Function to count uppercase characters in the file\n",
    "def upperCaseCount(filename):\n",
    "    f=open(filename,\"r\")\n",
    "    cnt=0\n",
    "    if f.mode==\"r\":\n",
    "        x=f.read()\n",
    "        lst=list(x)\n",
    "        for i in lst:\n",
    "            if(i.isupper()):\n",
    "                cnt=cnt+1\n",
    "    return cnt\n",
    "       \n",
    "print(upperCaseCount(\"file1.txt\"))\n",
    "        "
   ]
  },
  {
   "cell_type": "code",
   "execution_count": 50,
   "metadata": {},
   "outputs": [
    {
     "name": "stdout",
     "output_type": "stream",
     "text": [
      "40\n"
     ]
    }
   ],
   "source": [
    "#Function to count lines in the given file\n",
    "def lineCount(filename):\n",
    "    f=open(filename,\"r\")\n",
    "    num_lines=0\n",
    "    if f.mode==\"r\":\n",
    "        x=f.read()\n",
    "        lst=list(x)\n",
    "        for i in lst:\n",
    "            if(i==\"\\n\"):\n",
    "                num_lines += 1\n",
    "    return num_lines\n",
    "print(lineCount(\"file1.txt\"))\n",
    "        "
   ]
  },
  {
   "cell_type": "code",
   "execution_count": 54,
   "metadata": {},
   "outputs": [
    {
     "name": "stdout",
     "output_type": "stream",
     "text": [
      " Volume in drive C has no label.\n",
      " Volume Serial Number is 02EA-8DCB\n",
      "\n",
      " Directory of C:\\Users\\231\\Desktop\n",
      "\n",
      "06/27/2019  05:46 PM    <DIR>          .\n",
      "06/27/2019  05:46 PM    <DIR>          ..\n",
      "06/27/2019  02:46 PM    <DIR>          .ipynb_checkpoints\n",
      "06/25/2019  03:14 PM            13,372 Anoushka.ipynb\n",
      "06/25/2019  10:50 PM             9,689 Data Structures.ipynb\n",
      "06/27/2019  05:46 PM             6,650 Day 10.ipynb\n",
      "06/24/2019  03:26 PM             1,649 Day 6.ipynb\n",
      "06/27/2019  04:20 PM               370 file1.txt\n",
      "06/27/2019  03:04 PM                30 file2.txt\n",
      "06/26/2019  09:32 PM    <DIR>          git\n",
      "06/26/2019  10:38 PM            54,471 String Functions.ipynb\n",
      "06/21/2019  10:28 PM    <DIR>          vasavi\n",
      "               7 File(s)         86,231 bytes\n",
      "               5 Dir(s)  73,221,578,752 bytes free\n"
     ]
    }
   ],
   "source": [
    "ls"
   ]
  },
  {
   "cell_type": "markdown",
   "metadata": {},
   "source": [
    "## Regular Expressions"
   ]
  },
  {
   "cell_type": "code",
   "execution_count": 4,
   "metadata": {},
   "outputs": [
    {
     "name": "stdout",
     "output_type": "stream",
     "text": [
      "True\n",
      "False\n"
     ]
    }
   ],
   "source": [
    "import re\n",
    "def phoneNumberValidate(phone):\n",
    "    pattern='^[6-9][0-9]{9}$'\n",
    "    phone=str(phone)\n",
    "    if re.match(pattern,phone):\n",
    "        return True\n",
    "    return False\n",
    "print(phoneNumberValidate(9966338855))\n",
    "print(phoneNumberValidate(99668855))"
   ]
  },
  {
   "cell_type": "markdown",
   "metadata": {},
   "source": [
    "#RE -- Validation of Roll Number\n",
    "###152U1A0501"
   ]
  },
  {
   "cell_type": "code",
   "execution_count": 5,
   "metadata": {},
   "outputs": [
    {
     "name": "stdout",
     "output_type": "stream",
     "text": [
      "True\n",
      "False\n"
     ]
    }
   ],
   "source": [
    "import re\n",
    "def validateRollNumber(number):\n",
    "    number=str(number)\n",
    "    pattern=\"^[1][5][2][U][1][A][0][1-9][0-6][0-9]$\"\n",
    "    if re.match(pattern,number):\n",
    "        return True\n",
    "    return False\n",
    "print(validateRollNumber(\"152U1A0555\"))\n",
    "print(validateRollNumber(\"152U1A0485\"))"
   ]
  },
  {
   "cell_type": "code",
   "execution_count": 12,
   "metadata": {},
   "outputs": [
    {
     "name": "stdout",
     "output_type": "stream",
     "text": [
      "False\n",
      "False\n"
     ]
    }
   ],
   "source": [
    "#validation of email id\n",
    "import re\n",
    "def validateEmailId(email):\n",
    "    pattern=\"^[0-9a-z][0-9a-z_.]{4-13}[0-9a-z][@][a-z0-9]{3-18}[.][a-z]{2-4}$\"\n",
    "    if re.match(pattern,email):\n",
    "        return True\n",
    "    return False\n",
    "print(validateEmailId(\"anoumer.as132@gmail.com\"))\n",
    "print(validateEmailId(\"jd_gf@yahoo.com\"))"
   ]
  },
  {
   "cell_type": "code",
   "execution_count": 23,
   "metadata": {},
   "outputs": [
    {
     "name": "stdout",
     "output_type": "stream",
     "text": [
      "True\n",
      "True\n"
     ]
    }
   ],
   "source": [
    "import re\n",
    "def validatePassword(password):\n",
    "    pattern=\"^[a-zA-Z0-9@$#!]{6,15}$\"\n",
    "    if re.match(pattern,password):\n",
    "        return True\n",
    "    return False\n",
    "print(validatePassword(\"Anou#fd\"))\n",
    "print(validatePassword(\"des6bg\"))\n"
   ]
  },
  {
   "cell_type": "markdown",
   "metadata": {},
   "source": [
    "### Assignment"
   ]
  },
  {
   "cell_type": "code",
   "execution_count": 46,
   "metadata": {},
   "outputs": [
    {
     "name": "stdout",
     "output_type": "stream",
     "text": [
      "File has been created successfully and data is written\n",
      "(90, 10, 40)\n"
     ]
    }
   ],
   "source": [
    "def fileFunctions(filename):\n",
    "    f=open(filename,\"w\")\n",
    "    for i in range(10):\n",
    "        f.write(\"This is %d line\\n\" %i)\n",
    "    print(\"File has been created successfully and data is written\")\n",
    "    f=open(filename,\"r\")\n",
    "    cnt=0\n",
    "    dig=0\n",
    "    upper=0\n",
    "    special=0\n",
    "    if f.mode==\"r\":\n",
    "        x=f.read()\n",
    "        lst=list(x)\n",
    "        for i in lst:\n",
    "            if(i.islower()):\n",
    "                cnt=cnt+1\n",
    "            elif(i.isdigit()):\n",
    "                dig=dig+1\n",
    "            elif(i.isupper()==False):\n",
    "                special=special+1\n",
    "\n",
    "        \n",
    "    return cnt,dig,special\n",
    "    f.close()\n",
    "    \n",
    "print(fileFunctions(\"file1.txt\"))\n",
    " "
   ]
  },
  {
   "cell_type": "code",
   "execution_count": 61,
   "metadata": {},
   "outputs": [
    {
     "name": "stdout",
     "output_type": "stream",
     "text": [
      "enter namepreeti\n",
      "enter emailfgyukyjgh@gmail.com\n",
      "enter mobile923456789\n",
      "File has been created successfully and data is written\n"
     ]
    }
   ],
   "source": [
    "import re\n",
    "def validationFile(name):\n",
    "    name=input(\"enter name\")\n",
    "    email=input(\"enter email\")\n",
    "    phone=int(input(\"enter mobile\"))\n",
    "    f=open(\"file3.txt\",\"w\")\n",
    "    for i in range(1):\n",
    "        f.write(name)\n",
    "        pattern=\"^[0-9a-z][0-9a-z_.]{4-13}[0-9a-z][@][a-z0-9]{3-18}[.][a-z]{2-4}$\"\n",
    "        if re.match(pattern,email):\n",
    "            f.write(email)\n",
    "        pattern='^[6-9][0-9]{9}$'\n",
    "        phone=str(phone)\n",
    "        if re.match(pattern,phone):\n",
    "            \n",
    "            f.write(phone)\n",
    "        \n",
    "    \n",
    "    print(\"File has been created successfully and data is written\")\n",
    "    f.close()\n",
    "    \n",
    "validationFile(\"file3.txt\")\n",
    "    "
   ]
  },
  {
   "cell_type": "code",
   "execution_count": null,
   "metadata": {},
   "outputs": [],
   "source": []
  }
 ],
 "metadata": {
  "kernelspec": {
   "display_name": "Python 3",
   "language": "python",
   "name": "python3"
  },
  "language_info": {
   "codemirror_mode": {
    "name": "ipython",
    "version": 3
   },
   "file_extension": ".py",
   "mimetype": "text/x-python",
   "name": "python",
   "nbconvert_exporter": "python",
   "pygments_lexer": "ipython3",
   "version": "3.7.3"
  }
 },
 "nbformat": 4,
 "nbformat_minor": 2
}
