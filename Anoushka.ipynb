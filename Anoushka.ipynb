{
 "cells": [
  {
   "cell_type": "markdown",
   "metadata": {},
   "source": [
    "### Sum of even numbers"
   ]
  },
  {
   "cell_type": "code",
   "execution_count": 7,
   "metadata": {},
   "outputs": [
    {
     "name": "stdout",
     "output_type": "stream",
     "text": [
      "90\n"
     ]
    }
   ],
   "source": [
    "def printEven(n):\n",
    "    count=0\n",
    "    sum=0\n",
    "    while(count!=n):\n",
    "        if(count%2==0):\n",
    "            sum+=count\n",
    "        count=count+1\n",
    "    return sum\n",
    "\n",
    "print(printEven(20))\n",
    "            "
   ]
  },
  {
   "cell_type": "markdown",
   "metadata": {},
   "source": [
    "### Factors list of given number"
   ]
  },
  {
   "cell_type": "code",
   "execution_count": 12,
   "metadata": {},
   "outputs": [
    {
     "name": "stdout",
     "output_type": "stream",
     "text": [
      "1 2 3 4 6 "
     ]
    }
   ],
   "source": [
    "def factor(n):\n",
    "    i=1\n",
    "    while(i!=n):\n",
    "        if(n%i==0):\n",
    "            print(i,end=\" \")\n",
    "        i=i+1\n",
    "    return \n",
    "factor(12)"
   ]
  },
  {
   "cell_type": "markdown",
   "metadata": {},
   "source": [
    "## Lists in Python"
   ]
  },
  {
   "cell_type": "code",
   "execution_count": 16,
   "metadata": {},
   "outputs": [
    {
     "name": "stdout",
     "output_type": "stream",
     "text": [
      "[1, 2, 3] ['a', 'b', 'c'] [50.0, 23.34, 1.567]\n",
      "1\n"
     ]
    }
   ],
   "source": [
    "list=[1,2,3]\n",
    "list2=[\"a\",\"b\",\"c\"]\n",
    "list3=[50.0,23.34,1.567]\n",
    "print(list,list2,list3)\n",
    "print(list[0])"
   ]
  },
  {
   "cell_type": "markdown",
   "metadata": {},
   "source": [
    "#### for loop"
   ]
  },
  {
   "cell_type": "code",
   "execution_count": 17,
   "metadata": {},
   "outputs": [
    {
     "name": "stdout",
     "output_type": "stream",
     "text": [
      "cat dog mouse "
     ]
    }
   ],
   "source": [
    "list2=[\"cat\",\"dog\",\"mouse\"]\n",
    "for x in list2:\n",
    "    print(x,end=\" \")"
   ]
  },
  {
   "cell_type": "code",
   "execution_count": 1,
   "metadata": {},
   "outputs": [
    {
     "name": "stdout",
     "output_type": "stream",
     "text": [
      "1 2 3 4 5 6 7 \n",
      "5\n",
      "[4, 5, 6]\n",
      "[1, 2, 3]\n",
      "[7]\n",
      "[1, 2, 3]\n",
      "3\n",
      "[3]\n",
      "[1, 3, 5, 7]\n",
      "[1, 4, 7]\n",
      "[1, 6]\n"
     ]
    }
   ],
   "source": [
    "list1=[1,2,3,4,5,6,7]\n",
    "for x in list1:\n",
    "    print(x,end=\" \")\n",
    "    \n",
    "print()\n",
    "print(list1[4])\n",
    "print(list1[3:6])\n",
    "print(list1[0:3])\n",
    "print(list1[6:])\n",
    "print(list1[:3])\n",
    "\n",
    "print(list1[-5])\n",
    "print(list1[-5:-4])\n",
    "print(list1[::2])\n",
    "print(list1[::3])\n",
    "print(list1[::5])"
   ]
  },
  {
   "cell_type": "code",
   "execution_count": 34,
   "metadata": {},
   "outputs": [
    {
     "name": "stdout",
     "output_type": "stream",
     "text": [
      "[1, 2, 3, 4, 5]\n",
      "[1, 2, 3, 5]\n",
      "4\n"
     ]
    }
   ],
   "source": [
    "list1=[1,2,3,4,5]\n",
    "print(list1)\n",
    "del list1[3]\n",
    "print(list1)\n",
    "print(len(list1))\n",
    "\n"
   ]
  },
  {
   "cell_type": "markdown",
   "metadata": {},
   "source": [
    "### list methods"
   ]
  },
  {
   "cell_type": "code",
   "execution_count": 41,
   "metadata": {},
   "outputs": [
    {
     "name": "stdout",
     "output_type": "stream",
     "text": [
      "[1, 2, 3, 4, 6, 5]\n",
      "[1, 2, 3, 4, 6, 5, 6]\n",
      "2\n"
     ]
    }
   ],
   "source": [
    "list=[1,2,3,4,6]\n",
    "list.append(5)\n",
    "print(list)\n",
    "list.append(6)\n",
    "print(list)\n",
    "print(list.count(6))\n"
   ]
  },
  {
   "cell_type": "code",
   "execution_count": 47,
   "metadata": {},
   "outputs": [
    {
     "name": "stdout",
     "output_type": "stream",
     "text": [
      "[0.1, 0.4, 0.2, 0.3]\n"
     ]
    }
   ],
   "source": [
    "A=[0.1,0.2,0.3]\n",
    "A.insert(1,0.4)\n",
    "print(A)\n"
   ]
  },
  {
   "cell_type": "code",
   "execution_count": 56,
   "metadata": {},
   "outputs": [
    {
     "name": "stdout",
     "output_type": "stream",
     "text": [
      "['gitam', 'python', 'raptor', 'python', 'python']\n",
      "1\n"
     ]
    }
   ],
   "source": [
    "lst=[\"gitam\",\"python\",\"raptor\",\"python\",\"python\"]\n",
    "print(lst)\n",
    "print(lst.index(\"python\"))\n"
   ]
  },
  {
   "cell_type": "code",
   "execution_count": 57,
   "metadata": {},
   "outputs": [
    {
     "name": "stdout",
     "output_type": "stream",
     "text": [
      "[1, 2, 9, 3, 4, 5]\n"
     ]
    }
   ],
   "source": [
    "list=[1,2,3,4,5]\n",
    "list.insert(2,9)\n",
    "print(list)"
   ]
  },
  {
   "cell_type": "code",
   "execution_count": 58,
   "metadata": {},
   "outputs": [
    {
     "name": "stdout",
     "output_type": "stream",
     "text": [
      "6\n"
     ]
    }
   ],
   "source": [
    "print(len(list))"
   ]
  },
  {
   "cell_type": "code",
   "execution_count": 67,
   "metadata": {},
   "outputs": [
    {
     "name": "stdout",
     "output_type": "stream",
     "text": [
      "[1, 3, 4, 5, 6, 7, 8, 9]\n",
      "[9, 8, 7, 6, 5, 4, 3, 1]\n"
     ]
    }
   ],
   "source": [
    "list=[1,2,3,4,5,6,7,8,9]\n",
    "list.remove(2)\n",
    "print(list)\n",
    "list.reverse()\n",
    "print(list)"
   ]
  },
  {
   "cell_type": "markdown",
   "metadata": {},
   "source": [
    "## Data Structure"
   ]
  },
  {
   "cell_type": "markdown",
   "metadata": {},
   "source": [
    "### 1. Searching the data\n",
    "##### Linear Search\n",
    "##### Binary Search"
   ]
  },
  {
   "cell_type": "markdown",
   "metadata": {},
   "source": [
    "### LINEAR SEARCH:-"
   ]
  },
  {
   "cell_type": "code",
   "execution_count": 74,
   "metadata": {},
   "outputs": [
    {
     "name": "stdout",
     "output_type": "stream",
     "text": [
      "Target item is found\n"
     ]
    }
   ],
   "source": [
    "def LinearSearch(a,key):\n",
    "    flag=0\n",
    "    for i in range(len(a)):\n",
    "        if(a[i]==key):\n",
    "            flag=1\n",
    "            break\n",
    "    if(flag!=0):\n",
    "        print(\"Target item is found\")\n",
    "    else:\n",
    "        print(\"Target item not found\")\n",
    "\n",
    "a=[12,13,56,23,43,1,45]\n",
    "LinearSearch(a,1)\n",
    "        "
   ]
  },
  {
   "cell_type": "code",
   "execution_count": 79,
   "metadata": {},
   "outputs": [
    {
     "name": "stdout",
     "output_type": "stream",
     "text": [
      "1\n"
     ]
    }
   ],
   "source": [
    "def LinearSearchDuplicate(a,key):\n",
    "    flag=0\n",
    "    for i in range(len(a)):\n",
    "        if a[i]==key:\n",
    "            flag=flag+1\n",
    "            \n",
    "    print(flag)\n",
    "        \n",
    "a=[9,12,34,52,1,56]\n",
    "LinearSearchDuplicate(a,12)"
   ]
  },
  {
   "cell_type": "code",
   "execution_count": 18,
   "metadata": {},
   "outputs": [
    {
     "name": "stdout",
     "output_type": "stream",
     "text": [
      "!! !!!!! !!!!!!!! "
     ]
    }
   ],
   "source": [
    "def linearExample(a,tarItem):\n",
    "    flag=0\n",
    "    for i in range(len(a)):\n",
    "        if(a[i]==tarItem):\n",
    "            print(\"!\"*(i+1),end=\" \")\n",
    "    \n",
    "a=[1,5,9,6,5,15,12,5]\n",
    "linearExample(a,5) #1 4 7"
   ]
  },
  {
   "cell_type": "code",
   "execution_count": 24,
   "metadata": {},
   "outputs": [
    {
     "name": "stdout",
     "output_type": "stream",
     "text": [
      "! !   ! ! ! ! !   ! ! ! ! ! ! ! !   "
     ]
    }
   ],
   "source": [
    "def linearExample(a,tarItem):\n",
    "    for i in range(len(a)):\n",
    "        if(a[i]==tarItem):\n",
    "            j=0\n",
    "            while(j!=i+1):\n",
    "                print(\"!\",end=\" \")\n",
    "                j=j+1\n",
    "            print(end=\"  \")\n",
    "            \n",
    "a=[1,5,9,6,5,15,12,5]\n",
    "linearExample(a,5)"
   ]
  },
  {
   "cell_type": "code",
   "execution_count": 41,
   "metadata": {},
   "outputs": [
    {
     "name": "stdout",
     "output_type": "stream",
     "text": [
      "60\n"
     ]
    }
   ],
   "source": [
    "def linearExample(a):\n",
    "    sum=0\n",
    "    for i in range(len(a)):\n",
    "        if(a[i]%3==0 and a[i]%5==0):\n",
    "            sum=sum+a[i]\n",
    "    print(sum)\n",
    "            \n",
    "a=[15,12,2,9,18,36,45]\n",
    "linearExample(a)"
   ]
  },
  {
   "cell_type": "code",
   "execution_count": 58,
   "metadata": {},
   "outputs": [
    {
     "name": "stdout",
     "output_type": "stream",
     "text": [
      "1 3 8 15 5 "
     ]
    }
   ],
   "source": [
    "def linearExample(a):\n",
    "    for i in range(len(a)):\n",
    "       \n",
    "        if(i==0 or i==len(a)-1):\n",
    "            print(a[i],end=\" \")\n",
    "        else:\n",
    "            print(a[i-1]*a[i+1],end=\" \")\n",
    "        i=i+1\n",
    "    \n",
    "    \n",
    "    \n",
    "a=[1,2,3,4,5]\n",
    "linearExample(a)"
   ]
  },
  {
   "cell_type": "code",
   "execution_count": 63,
   "metadata": {},
   "outputs": [
    {
     "name": "stdout",
     "output_type": "stream",
     "text": [
      "1 9 19 22 "
     ]
    }
   ],
   "source": [
    "def linearExample(a):\n",
    "    for i in range(len(a)):\n",
    "        if(i==0 or i==len(a)-1):\n",
    "            print(a[i],end=\" \")\n",
    "        elif(a[i-1]%2==0 and a[i+1]%2==0):\n",
    "            print(a[i],end=\" \")\n",
    "        \n",
    "a=[1,6,9,4,16,19,22]\n",
    "linearExample(a)"
   ]
  },
  {
   "cell_type": "code",
   "execution_count": 78,
   "metadata": {},
   "outputs": [
    {
     "name": "stdout",
     "output_type": "stream",
     "text": [
      "[9, 6, 5, 4, 1]\n"
     ]
    }
   ],
   "source": [
    "def numberToListConversion(n):\n",
    "    a=[]\n",
    "    while(n!=0):\n",
    "            rev=n%10\n",
    "            a.append(rev)\n",
    "            n=n//10\n",
    "    print(a) \n",
    "            \n",
    "\n",
    "\n",
    "numberToListConversion(14569)\n",
    "a=[1,4,5,6,9]"
   ]
  },
  {
   "cell_type": "code",
   "execution_count": 80,
   "metadata": {},
   "outputs": [
    {
     "name": "stdout",
     "output_type": "stream",
     "text": [
      "enter a number12345\n",
      "[1, 2, 3, 4, 5]\n"
     ]
    }
   ],
   "source": [
    "def numberToListConversion(n):\n",
    "    list=[]\n",
    "    while(n!=0):\n",
    "        list.append(n%10)\n",
    "        n=n//10\n",
    "    list.reverse()\n",
    "    return list\n",
    "\n",
    "n=int(input(\"enter a number\"))\n",
    "print(numberToListConversion(n))\n"
   ]
  },
  {
   "cell_type": "code",
   "execution_count": 82,
   "metadata": {},
   "outputs": [
    {
     "name": "stdout",
     "output_type": "stream",
     "text": [
      "12345"
     ]
    }
   ],
   "source": [
    "def listToNumberConversion(a):\n",
    "    for i in range(len(a)):\n",
    "        print(a[i],end=\"\")\n",
    "        \n",
    "a=[1,2,3,4,5]\n",
    "listToNumberConversion(a)\n",
    "     "
   ]
  },
  {
   "cell_type": "code",
   "execution_count": 88,
   "metadata": {},
   "outputs": [
    {
     "name": "stdout",
     "output_type": "stream",
     "text": [
      "46"
     ]
    }
   ],
   "source": [
    "def listToNumberConversion(a):\n",
    "    for i in range(len(a)):\n",
    "        if(a[i]%2==0):\n",
    "            print(a[i],end=\"\")\n",
    "\n",
    "a=[1,4,5,6,9]\n",
    "listToNumberConversion(a)"
   ]
  },
  {
   "cell_type": "code",
   "execution_count": 97,
   "metadata": {},
   "outputs": [
    {
     "name": "stdout",
     "output_type": "stream",
     "text": [
      "Enter a number: 14569\n",
      "[4, 6]\n"
     ]
    }
   ],
   "source": [
    "def numberToListConversion(n):\n",
    "    a=[]\n",
    "    while(n!=0):\n",
    "        rev=n%10\n",
    "        if(rev%2==0):\n",
    "            a.append(rev)\n",
    "        n=n//10\n",
    "    a.reverse()\n",
    "    print(a)\n",
    "        \n",
    "  \n",
    "            \n",
    "\n",
    "n=int(input(\"Enter a number: \"))\n",
    "numberToListConversion(n)\n",
    "   "
   ]
  },
  {
   "cell_type": "code",
   "execution_count": 103,
   "metadata": {},
   "outputs": [
    {
     "name": "stdout",
     "output_type": "stream",
     "text": [
      "[15, 34, 31, 28, 20]\n"
     ]
    }
   ],
   "source": [
    "def LinearList(a):\n",
    "    list=[]\n",
    "    sum=0\n",
    "    for i in range(len(a)):\n",
    "        if(i==0):\n",
    "            list.append(a[i])\n",
    "        else:\n",
    "            list.append(a[i]+a[i-1])\n",
    "    print(list)\n",
    "    \n",
    "a=[15,19,12,16,4]\n",
    "LinearList(a)\n",
    "        \n",
    "    "
   ]
  }
 ],
 "metadata": {
  "kernelspec": {
   "display_name": "Python 3",
   "language": "python",
   "name": "python3"
  },
  "language_info": {
   "codemirror_mode": {
    "name": "ipython",
    "version": 3
   },
   "file_extension": ".py",
   "mimetype": "text/x-python",
   "name": "python",
   "nbconvert_exporter": "python",
   "pygments_lexer": "ipython3",
   "version": "3.7.3"
  }
 },
 "nbformat": 4,
 "nbformat_minor": 2
}
