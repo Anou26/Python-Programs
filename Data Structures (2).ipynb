{
 "cells": [
  {
   "cell_type": "markdown",
   "metadata": {},
   "source": [
    "## Binary Search"
   ]
  },
  {
   "cell_type": "code",
   "execution_count": 17,
   "metadata": {},
   "outputs": [
    {
     "name": "stdout",
     "output_type": "stream",
     "text": [
      "Element found\n"
     ]
    }
   ],
   "source": [
    "def binarySearch(a,left,right,key):\n",
    "    while(left<=right):\n",
    "        mid=left+(right-left)//2\n",
    "        if(a[mid]==key):\n",
    "            return mid\n",
    "        elif(a[mid]>key):\n",
    "            right=mid-1\n",
    "        else:\n",
    "            left=mid+1\n",
    "    return -1\n",
    "a=[2,4,6,8,10]\n",
    "res=binarySearch(a,0,4,8)\n",
    "if(res!=-1):\n",
    "    print(\"Element found\")\n",
    "else:\n",
    "    print(\"Element not found\")\n",
    "         "
   ]
  },
  {
   "cell_type": "markdown",
   "metadata": {},
   "source": [
    "## Sorting Algorithm"
   ]
  },
  {
   "cell_type": "markdown",
   "metadata": {},
   "source": [
    "### BUBBLE SORT"
   ]
  },
  {
   "cell_type": "code",
   "execution_count": 14,
   "metadata": {},
   "outputs": [
    {
     "name": "stdout",
     "output_type": "stream",
     "text": [
      "[18, 23, 24, 34, 37, 74]\n"
     ]
    }
   ],
   "source": [
    "def bubbleSort(a):\n",
    "    n=len(a)\n",
    "    for i in range(n):\n",
    "        for j in range(n-i-1):\n",
    "            if(a[j]>a[j+1]):\n",
    "                t=a[j]\n",
    "                a[j]=a[j+1]\n",
    "                a[j+1]=t\n",
    "a=[23,18,34,24,74,37]\n",
    "bubbleSort(a)\n",
    "print(a)\n",
    "\n",
    "            \n",
    "    "
   ]
  },
  {
   "cell_type": "code",
   "execution_count": 16,
   "metadata": {},
   "outputs": [
    {
     "name": "stdout",
     "output_type": "stream",
     "text": [
      "18 23 24 34 37 74 "
     ]
    }
   ],
   "source": [
    "def bubbleSort(a):\n",
    "    n=len(a)\n",
    "    for i in range(n-1):\n",
    "        for j in range(n-1):\n",
    "            if(a[j]>a[j+1]):\n",
    "                a[j],a[j+1]=a[j+1],a[j]\n",
    "    for i in range(n):\n",
    "        print(a[i],end=\" \")\n",
    "        \n",
    "a=[23,18,34,24,74,37]\n",
    "bubbleSort(a)\n"
   ]
  },
  {
   "cell_type": "code",
   "execution_count": 18,
   "metadata": {},
   "outputs": [
    {
     "name": "stdout",
     "output_type": "stream",
     "text": [
      "[18, 23, 24, 34, 37, 74]\n"
     ]
    }
   ],
   "source": [
    "def bubbleSort(a):\n",
    "    n=len(a)\n",
    "    for i in range(n-1):\n",
    "        for j in range(n-1):\n",
    "            if(a[j]>a[j+1]):\n",
    "                a[j],a[j+1]=a[j+1],a[j]\n",
    "    for i in range(n):\n",
    "        print(a[i],end=\" \")\n",
    "        \n",
    "a=[23,18,34,24,74,37]\n",
    "a.sort()\n",
    "print(a)"
   ]
  },
  {
   "cell_type": "markdown",
   "metadata": {},
   "source": [
    "## Strings in python"
   ]
  },
  {
   "cell_type": "code",
   "execution_count": 47,
   "metadata": {},
   "outputs": [
    {
     "name": "stdout",
     "output_type": "stream",
     "text": [
      "hello\n",
      "h\n",
      "l\n",
      "str = hell\n",
      "str = el\n",
      "str = hlo\n",
      "str = olleh\n"
     ]
    }
   ],
   "source": [
    "str=\"hello\"\n",
    "print(str)\n",
    "print(str[0])\n",
    "print(str[2:3])\n",
    "print(\"str = \"+str[0:-1])\n",
    "print(\"str = \"+str[1:-2])\n",
    "print(\"str = \"+str[::2])\n",
    "print(\"str = \"+str[::-1])"
   ]
  },
  {
   "cell_type": "code",
   "execution_count": 49,
   "metadata": {},
   "outputs": [
    {
     "name": "stdout",
     "output_type": "stream",
     "text": [
      "False\n",
      "True\n"
     ]
    }
   ],
   "source": [
    "def isPalindrome(s):\n",
    "    if s==s[::-1]:\n",
    "        return True\n",
    "    else:\n",
    "        return False\n",
    "\n",
    "print(isPalindrome(\"Python\"))\n",
    "print(isPalindrome(\"radar\"))"
   ]
  },
  {
   "cell_type": "code",
   "execution_count": 50,
   "metadata": {},
   "outputs": [
    {
     "name": "stdout",
     "output_type": "stream",
     "text": [
      "Enter a number2342\n",
      "4\n"
     ]
    }
   ],
   "source": [
    "# count the digits of a number\n",
    "n=int(input(\"Enter a number\"))\n",
    "count=0\n",
    "while(n!=0):\n",
    "    count=count+1\n",
    "    n=n//10\n",
    "    \n",
    "print(count)"
   ]
  },
  {
   "cell_type": "code",
   "execution_count": 56,
   "metadata": {},
   "outputs": [
    {
     "name": "stdout",
     "output_type": "stream",
     "text": [
      "5\n"
     ]
    }
   ],
   "source": [
    "# count characters of a string -- String len function\n",
    "def countChar(n):\n",
    "    return len(str)\n",
    "print(countChar(\"Hello\"))"
   ]
  },
  {
   "cell_type": "code",
   "execution_count": 66,
   "metadata": {},
   "outputs": [
    {
     "name": "stdout",
     "output_type": "stream",
     "text": [
      "ABCABC123\n",
      "abcabc123\n"
     ]
    }
   ],
   "source": [
    "str=\"abcABC123\"\n",
    "print(str.upper())\n",
    "print(str.lower())"
   ]
  },
  {
   "cell_type": "code",
   "execution_count": 70,
   "metadata": {},
   "outputs": [
    {
     "name": "stdout",
     "output_type": "stream",
     "text": [
      "5\n"
     ]
    }
   ],
   "source": [
    "def count(str):\n",
    "    lst=list(str)\n",
    "    return len(lst)\n",
    "print(count(\"hello\"))\n"
   ]
  },
  {
   "cell_type": "code",
   "execution_count": 77,
   "metadata": {},
   "outputs": [
    {
     "name": "stdout",
     "output_type": "stream",
     "text": [
      "1\n",
      "3\n"
     ]
    }
   ],
   "source": [
    "def countUpperCase(str):\n",
    "    cnt=0\n",
    "    lst=list(str)\n",
    "    for x in range(len(lst)):\n",
    "        if ord(lst[x])>=65 and ord(lst[x])<=90:\n",
    "            cnt=cnt+1\n",
    "    return cnt\n",
    "\n",
    "print(countUpperCase(\"Application\"))\n",
    "print(countUpperCase(\"HELlo\"))\n"
   ]
  },
  {
   "cell_type": "code",
   "execution_count": 91,
   "metadata": {},
   "outputs": [
    {
     "name": "stdout",
     "output_type": "stream",
     "text": [
      "2 4 5 6 \n",
      "1 2 3 \n"
     ]
    }
   ],
   "source": [
    "def printDigitsInString(str):\n",
    "    cnt=0\n",
    "    lst=list(str)\n",
    "    for x in range(len(lst)):\n",
    "        if ord(lst[x])>=48 and ord(lst[x])<=57:\n",
    "            print(lst[x],end=\" \")\n",
    "    print()\n",
    "    \n",
    "printDigitsInString(\"hello2456world\")    \n",
    "printDigitsInString(\"abc123\")"
   ]
  },
  {
   "cell_type": "code",
   "execution_count": 11,
   "metadata": {},
   "outputs": [
    {
     "name": "stdout",
     "output_type": "stream",
     "text": [
      "6\n"
     ]
    }
   ],
   "source": [
    "def addDigitsInString(str):\n",
    "    cnt=0\n",
    "    sum=0\n",
    "    lst=list(str)\n",
    "    for x in range(len(lst)):\n",
    "        if ord(lst[x])>=48and ord(lst[x])<=57:\n",
    "            sum=sum+ord(lst[x])-48\n",
    "    return sum\n",
    "  \n",
    "            \n",
    "print(addDigitsInString(\"abc123\"))"
   ]
  },
  {
   "cell_type": "code",
   "execution_count": 12,
   "metadata": {},
   "outputs": [
    {
     "name": "stdout",
     "output_type": "stream",
     "text": [
      "6\n"
     ]
    }
   ],
   "source": [
    "def addDigitsInString(str):\n",
    "    cnt=0\n",
    "    sum=0\n",
    "    lst=list(str)\n",
    "    for x in range(len(lst)):\n",
    "        if ord(lst[x])>=48and ord(lst[x])<=57:\n",
    "            sum=sum+int(lst[x])\n",
    "    return sum\n",
    "  \n",
    "            \n",
    "print(addDigitsInString(\"abc123\"))"
   ]
  },
  {
   "cell_type": "code",
   "execution_count": 28,
   "metadata": {},
   "outputs": [
    {
     "name": "stdout",
     "output_type": "stream",
     "text": [
      "6\n"
     ]
    }
   ],
   "source": [
    "def addEvenDigitsInString(str):\n",
    "    cnt=0\n",
    "    sum=0\n",
    "    lst=list(str)\n",
    "    for x in range(len(lst)):\n",
    "        if ord(lst[x])>=48and ord(lst[x])<=57:\n",
    "            if(ord(lst[x])%2==0):\n",
    "                sum=sum+int(lst[x])\n",
    "    return sum\n",
    "  \n",
    "            \n",
    "print(addEvenDigitsInString(\"241fts\"))"
   ]
  },
  {
   "cell_type": "code",
   "execution_count": null,
   "metadata": {},
   "outputs": [],
   "source": []
  }
 ],
 "metadata": {
  "kernelspec": {
   "display_name": "Python 3",
   "language": "python",
   "name": "python3"
  },
  "language_info": {
   "codemirror_mode": {
    "name": "ipython",
    "version": 3
   },
   "file_extension": ".py",
   "mimetype": "text/x-python",
   "name": "python",
   "nbconvert_exporter": "python",
   "pygments_lexer": "ipython3",
   "version": "3.7.3"
  }
 },
 "nbformat": 4,
 "nbformat_minor": 2
}
